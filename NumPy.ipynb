{
 "cells": [
  {
   "cell_type": "markdown",
   "metadata": {},
   "source": [
    "# NumPy  ( Numerical Python)"
   ]
  },
  {
   "cell_type": "code",
   "execution_count": 1,
   "metadata": {},
   "outputs": [],
   "source": [
    "import numpy as np"
   ]
  },
  {
   "cell_type": "code",
   "execution_count": 3,
   "metadata": {},
   "outputs": [],
   "source": [
    "## NumPy Array oluşturmak;\n",
    "np.array=([1,2,3,4])"
   ]
  },
  {
   "cell_type": "code",
   "execution_count": 2,
   "metadata": {},
   "outputs": [],
   "source": [
    "a = np.array([1,2,3,4])"
   ]
  },
  {
   "cell_type": "code",
   "execution_count": 4,
   "metadata": {},
   "outputs": [
    {
     "data": {
      "text/plain": [
       "array(['a', '1'], dtype='<U1')"
      ]
     },
     "execution_count": 4,
     "metadata": {},
     "output_type": "execute_result"
    }
   ],
   "source": [
    "np.array([\"a\",1])"
   ]
  },
  {
   "cell_type": "code",
   "execution_count": 5,
   "metadata": {},
   "outputs": [
    {
     "data": {
      "text/plain": [
       "array([3.14, 4.  , 5.  ])"
      ]
     },
     "execution_count": 5,
     "metadata": {},
     "output_type": "execute_result"
    }
   ],
   "source": [
    "np.array([3.14,4,5])  # tek bir bilgi tuttuğu için hepsini aynı türe dönüştürdü"
   ]
  },
  {
   "cell_type": "code",
   "execution_count": 6,
   "metadata": {},
   "outputs": [
    {
     "data": {
      "text/plain": [
       "array([3, 6, 7, 1, 6, 4])"
      ]
     },
     "execution_count": 6,
     "metadata": {},
     "output_type": "execute_result"
    }
   ],
   "source": [
    "np.array([3.14,6,7,1.12,6.8,4], dtype=\"int\")  # veri tiplerini integer a dönüştürdü"
   ]
  },
  {
   "cell_type": "code",
   "execution_count": 7,
   "metadata": {},
   "outputs": [
    {
     "data": {
      "text/plain": [
       "array([0, 0, 0, 0, 0, 0, 0, 0, 0, 0])"
      ]
     },
     "execution_count": 7,
     "metadata": {},
     "output_type": "execute_result"
    }
   ],
   "source": [
    "# içerisinde 10 tane  0 lardan oluşan  integer tipinde array oluşturdu\n",
    "np.zeros(10, dtype=int)    "
   ]
  },
  {
   "cell_type": "code",
   "execution_count": 9,
   "metadata": {},
   "outputs": [
    {
     "data": {
      "text/plain": [
       "array([[1, 1, 1, 1, 1],\n",
       "       [1, 1, 1, 1, 1],\n",
       "       [1, 1, 1, 1, 1]])"
      ]
     },
     "execution_count": 9,
     "metadata": {},
     "output_type": "execute_result"
    }
   ],
   "source": [
    "# içerisinde belirtiten satır ve sütün sayısınca 1 lerden oluşan  integer tipinde array oluşturdu\n",
    "np.ones((3,5),dtype=int)"
   ]
  },
  {
   "cell_type": "code",
   "execution_count": 10,
   "metadata": {},
   "outputs": [
    {
     "data": {
      "text/plain": [
       "array([[3, 3, 3, 3, 3],\n",
       "       [3, 3, 3, 3, 3],\n",
       "       [3, 3, 3, 3, 3]])"
      ]
     },
     "execution_count": 10,
     "metadata": {},
     "output_type": "execute_result"
    }
   ],
   "source": [
    "# içerisinde belirtiten satır ve sütün sayısınca hangi sayıdan oluşturulmasını istersek (3) integer tipinde array oluşturdu\n",
    "np.full((3,5),3,dtype=int)"
   ]
  },
  {
   "cell_type": "code",
   "execution_count": 12,
   "metadata": {},
   "outputs": [
    {
     "data": {
      "text/plain": [
       "array([ 0,  3,  6,  9, 12, 15, 18, 21, 24, 27, 30])"
      ]
     },
     "execution_count": 12,
     "metadata": {},
     "output_type": "execute_result"
    }
   ],
   "source": [
    "# içerisinde belirtilen sayı aralığında(0,31) kaçar kaçar artmasını istediğimiz sayıca(3) array oluşturuldu\n",
    "\n",
    "np.arange(0,31, 3) # 0 dan 31  e üçer üçer artacak doğrusal bir dizi oluşturuldu."
   ]
  },
  {
   "cell_type": "code",
   "execution_count": 16,
   "metadata": {},
   "outputs": [
    {
     "data": {
      "text/plain": [
       "array([ 1.        ,  4.22222222,  7.44444444, 10.66666667, 13.88888889,\n",
       "       17.11111111, 20.33333333, 23.55555556, 26.77777778, 30.        ])"
      ]
     },
     "execution_count": 16,
     "metadata": {},
     "output_type": "execute_result"
    }
   ],
   "source": [
    "# belirtilen sayı aralığında (1,30) üretilmek istenen sayı miktarıca (10) array oluşturuldu \n",
    "np.linspace(1,30,10, dtype=int)\n",
    "np.linspace(1,30,10)"
   ]
  },
  {
   "cell_type": "code",
   "execution_count": 2,
   "metadata": {},
   "outputs": [
    {
     "data": {
      "text/plain": [
       "array([[ 6.40910319, 15.64875081, 12.98725771,  6.99379174],\n",
       "       [10.53244938, 11.75558924,  9.31587835, 11.39028822],\n",
       "       [ 7.85806652,  9.56783182,  9.05863542,  9.4848442 ]])"
      ]
     },
     "execution_count": 2,
     "metadata": {},
     "output_type": "execute_result"
    }
   ],
   "source": [
    "# oluşturulan rastgele sayılardan belli bir istatistik dağılıma uygun olmasını istersek;\n",
    "#örn/ normal dağılım için belli bir standart sapma(4) ve ortalama(10) belirlenmiş olsun,istediğimiz boyutta(3,4) array oluşturur\n",
    "np.random.normal(10,4,(3,4))"
   ]
  },
  {
   "cell_type": "code",
   "execution_count": 3,
   "metadata": {},
   "outputs": [
    {
     "data": {
      "text/plain": [
       "array([[6, 3, 1, 5, 0, 5],\n",
       "       [5, 4, 3, 4, 9, 7],\n",
       "       [0, 8, 8, 7, 6, 1]])"
      ]
     },
     "execution_count": 3,
     "metadata": {},
     "output_type": "execute_result"
    }
   ],
   "source": [
    "# belli aralıkta (0,10) rastgele sayılardan belirtilen boyutta (3,6) integer bir array oluşturulmak istenirse;\n",
    "np.random.randint(0,10,(3,6))"
   ]
  },
  {
   "cell_type": "markdown",
   "metadata": {},
   "source": [
    " ## Özellikler\n",
    "* **ndim:** boyut sayısı\n",
    "* **shape:** boyut bilgisi\n",
    "* **size:** toplam elaman \n",
    "* **dtype:** array veri tipi"
   ]
  },
  {
   "cell_type": "code",
   "execution_count": 7,
   "metadata": {},
   "outputs": [
    {
     "data": {
      "text/plain": [
       "array([0, 2, 9, 2, 5, 5, 1, 9])"
      ]
     },
     "execution_count": 7,
     "metadata": {},
     "output_type": "execute_result"
    }
   ],
   "source": [
    "np.random.randint(10,size=8)"
   ]
  },
  {
   "cell_type": "code",
   "execution_count": 8,
   "metadata": {},
   "outputs": [],
   "source": [
    "a=np.random.randint(10,size=8)"
   ]
  },
  {
   "cell_type": "code",
   "execution_count": 14,
   "metadata": {},
   "outputs": [
    {
     "name": "stdout",
     "output_type": "stream",
     "text": [
      "1 ->>boyutu\n",
      "(8,) ->>boyut bilgisi\n",
      "8 ->>eleman sayisi\n",
      "int32 ->>array tipi\n"
     ]
    }
   ],
   "source": [
    "print(a.ndim,\"->>boyutu\")  #boyutu\n",
    "print(a.shape,\"->>boyut bilgisi\")\n",
    "print(a.size,\"->>eleman sayisi\")\n",
    "print(a.dtype,\"->>array tipi\")"
   ]
  },
  {
   "cell_type": "code",
   "execution_count": 16,
   "metadata": {},
   "outputs": [],
   "source": [
    "b=np.random.randint(10,size=(3,5))"
   ]
  },
  {
   "cell_type": "code",
   "execution_count": 17,
   "metadata": {},
   "outputs": [
    {
     "name": "stdout",
     "output_type": "stream",
     "text": [
      "2 ->>boyutu\n",
      "(3, 5) ->>boyut bilgisi\n",
      "15 ->>eleman sayisi\n",
      "int32 ->>array tipi\n"
     ]
    }
   ],
   "source": [
    "print(b.ndim,\"->>boyutu\")  #boyutu\n",
    "print(b.shape,\"->>boyut bilgisi\")\n",
    "print(b.size,\"->>eleman sayisi\")\n",
    "print(b.dtype,\"->>array tipi\")"
   ]
  },
  {
   "cell_type": "code",
   "execution_count": null,
   "metadata": {},
   "outputs": [],
   "source": []
  }
 ],
 "metadata": {
  "kernelspec": {
   "display_name": "Python 3",
   "language": "python",
   "name": "python3"
  },
  "language_info": {
   "codemirror_mode": {
    "name": "ipython",
    "version": 3
   },
   "file_extension": ".py",
   "mimetype": "text/x-python",
   "name": "python",
   "nbconvert_exporter": "python",
   "pygments_lexer": "ipython3",
   "version": "3.7.6"
  }
 },
 "nbformat": 4,
 "nbformat_minor": 4
}
