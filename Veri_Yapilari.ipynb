{
 "cells": [
  {
   "cell_type": "markdown",
   "metadata": {},
   "source": [
    "# Veri Yapıları"
   ]
  },
  {
   "cell_type": "markdown",
   "metadata": {},
   "source": [
    "# # Liste"
   ]
  },
  {
   "cell_type": "code",
   "execution_count": null,
   "metadata": {},
   "outputs": [],
   "source": [
    "\"\"\"\n",
    "Değiştirilebilir\n",
    "Sıralıdır\n",
    "Kapsayıcıdır ( farklı tipte değişken türlerini bir arada tutabilir )\n",
    "\"\"\""
   ]
  },
  {
   "cell_type": "code",
   "execution_count": 84,
   "metadata": {},
   "outputs": [],
   "source": [
    "# liste tanımala  ->>>>>>> listeAdı=[veriler]\n",
    "numbers=[1,2,5,7,6,8,12,1000]\n",
    "months=[\"ocak\", \"subat\", \"mart\",\"nisan\",\"mayıs\",\"haziran\",\"temmuz\",\"ağustos\",\"eylül\",\"ekim\",\"kasım\",\"aralık\"]\n",
    "data=[\"a\",\"ahmet\",2,\"mavi\",8,100,\"b\",\"çilek\",\"elma\"]\n",
    "xx=[\"b\",2,3,\"c\",\"k\"]"
   ]
  },
  {
   "cell_type": "code",
   "execution_count": 36,
   "metadata": {},
   "outputs": [
    {
     "name": "stdout",
     "output_type": "stream",
     "text": [
      "8 12 10\n"
     ]
    }
   ],
   "source": [
    "#liste uzunluğunu (listedeki öğe sayısını ) bulmak için ->>>>>  len(listeAdı)\n",
    "len(numbers)\n",
    "len(months)\n",
    "len(data)\n",
    "print(len(numbers),len(months),len(data))"
   ]
  },
  {
   "cell_type": "code",
   "execution_count": 34,
   "metadata": {},
   "outputs": [
    {
     "name": "stdout",
     "output_type": "stream",
     "text": [
      "['b', 2, 3, 'c', 'k', 'muz']\n",
      "['b', 2, 3, 'h', 'k', 'muz']\n",
      "['s', 9, 3, 'h', 'k', 'muz']\n"
     ]
    },
    {
     "ename": "NameError",
     "evalue": "name 'xx' is not defined",
     "output_type": "error",
     "traceback": [
      "\u001b[1;31m---------------------------------------------------------------------------\u001b[0m",
      "\u001b[1;31mNameError\u001b[0m                                 Traceback (most recent call last)",
      "\u001b[1;32m<ipython-input-34-54afcf137ae8>\u001b[0m in \u001b[0;36m<module>\u001b[1;34m\u001b[0m\n\u001b[0;32m      9\u001b[0m \u001b[1;31m#listeyi tamamen silmek için ->>>>> del listeAdı\u001b[0m\u001b[1;33m\u001b[0m\u001b[1;33m\u001b[0m\u001b[1;33m\u001b[0m\u001b[0m\n\u001b[0;32m     10\u001b[0m \u001b[1;32mdel\u001b[0m \u001b[0mxx\u001b[0m\u001b[1;33m\u001b[0m\u001b[1;33m\u001b[0m\u001b[0m\n\u001b[1;32m---> 11\u001b[1;33m \u001b[0mxx\u001b[0m\u001b[1;33m\u001b[0m\u001b[1;33m\u001b[0m\u001b[0m\n\u001b[0m",
      "\u001b[1;31mNameError\u001b[0m: name 'xx' is not defined"
     ]
    }
   ],
   "source": [
    "# listeye eleman eklemek için ->>>>> listeAdı=listeAdı+[veri]\n",
    "xx=xx+[\"muz\"]\n",
    "print(xx)\n",
    "# listeden eleman değiştirmek için ->>>>> listeAdı[değiştirilmek istenen indis]=\"yeni eleman\"\n",
    "xx[3]=\"h\"\n",
    "print(xx)\n",
    "xx[0:2]=\"s\",9\n",
    "print(xx)\n",
    "#listeyi tamamen silmek için ->>>>> del listeAdı\n",
    "del xx\n",
    "xx"
   ]
  },
  {
   "cell_type": "code",
   "execution_count": 85,
   "metadata": {},
   "outputs": [
    {
     "name": "stdout",
     "output_type": "stream",
     "text": [
      "['a', 'ahmet', 2, 'mavi', 8, 100, 'b', 'çilek', 'elma']\n",
      "['a', 'ahmet', 2, 'mavi', 8, 100, 'b', 'çilek', 'elma', 'nar'] ekleme yapıldı\n",
      "['a', 'ahmet', 2, 'mavi', 8, 'pembe', 100, 'b', 'çilek', 'elma', 'nar'] ->> 5.index e ekleme yapıldı\n",
      "['a', 'ahmet', 2, 'mavi', 8, 'pembe', 100, 'b', 'çilek', 'elma', 'nar', 6, 'muz']\n",
      "['a', 'ahmet', 2, 'mavi', 8, 'pembe', 100, 'b', 'çilek', 'elma', 'nar', 6, 'muz', 'portakal', 7] ekleme işlemi yapıldı\n",
      "['a', 'ahmet', 2, 'mavi', 8, 'pembe', 100, 'b', 'çilek', 'nar', 6, 'muz', 'portakal', 7] ->> elma öğesi silindi\n",
      "['a', 'ahmet', 2, 8, 'pembe', 100, 'b', 'çilek', 'nar', 6, 'muz', 'portakal', 7] ->> 3. index de ki veri silindi\n",
      "8 ->>  nar ın index numarası\n",
      "[7, 'portakal', 'muz', 6, 'nar', 'çilek', 'b', 100, 'pembe', 8, 2, 'ahmet', 'a'] liste ters çevirildi\n",
      "1 ->> listede bulunan çilek sayısı\n",
      "[7, 'portakal', 'muz', 6, 'nar', 'çilek', 'b', 100, 'pembe', 8, 2, 'ahmet', 'a'] ->> yedek liste\n",
      "['aralık', 'ağustos', 'ekim', 'eylül', 'haziran', 'kasım', 'mart', 'mayıs', 'nisan', 'ocak', 'subat', 'temmuz']\n",
      "[1, 2, 5, 6, 7, 8, 12, 1000]\n",
      "[1000, 12, 8, 7, 6, 5, 2, 1]\n",
      "['temmuz', 'subat', 'ocak', 'nisan', 'mayıs', 'mart', 'kasım', 'haziran', 'eylül', 'ekim', 'ağustos', 'aralık']\n",
      "[] ->> liste öğeleri silindi\n"
     ]
    }
   ],
   "source": [
    "data=[\"a\",\"ahmet\",2,\"mavi\",8,100,\"b\",\"çilek\",\"elma\"]\n",
    "### Metotlar ###   listeAdı.metot()\n",
    "\n",
    "# append() ->>>>>> listenin sonuna tek bir kalıcı eleman ekler \n",
    "print(data)\n",
    "data.append(\"nar\")\n",
    "print(data, \"ekleme yapıldı\")\n",
    "\n",
    "# insert() ->>>>>> listenin istediğimiz indexine tek bir eleman eklemek için kullanılır.  insert(indexNo,veri)\n",
    "data.insert(5,\"pembe\")\n",
    "print(data,\"->> 5.index e ekleme yapıldı\")# ** listenin sonuna eklemek için indexNo->len(data) sondan bir önceki için indexNo->len(data)-1\n",
    "\n",
    "# extend() ->>>>>> listeye birden fazla veri eklenmesini sağlar, farklı listeleri birleştirir\n",
    "data2=[6,\"muz\"]\n",
    "data.extend(data2)\n",
    "print(data) # ** aynı işlem data = data+data2 ile de yapılabilir\n",
    "data.extend([\"portakal\",7])  # ** ayrı bir liste tanımlanmadan da ekleme yapılabilir\n",
    "print(data,\"ekleme işlemi yapıldı\")\n",
    "\n",
    "# remove() ->>>>>> listeden eleman siler\n",
    "data.remove(\"elma\")\n",
    "print(data,\"->> elma öğesi silindi\")\n",
    "\n",
    "# pop() ->>>>>> indexNo ya göre eleman silme işlemi yapar.  pop(indexNo)\n",
    "data.pop(3)\n",
    "print(data,\"->> 3. index de ki veri silindi\")\n",
    "\n",
    "# index() ->>>>>> listedeki bir öğenin kaçıncı index de olduğunu bulmak için kullanılır\n",
    "data.index(\"nar\")\n",
    "print(data.index(\"nar\"),\"->>  nar ın index numarası\")\n",
    "\n",
    "# reverse() ->>>>>> listedeki elemanların sırasını ters çevirir\n",
    "data.reverse()\n",
    "print(data,\"liste ters çevirildi\")\n",
    "\n",
    "# count() ->>>>>> listede kaç tane belirli bir elamandan olduğunu frekanslarına erişerek gösterir\n",
    "data.count(\"çilek\")\n",
    "print(data.count(\"çilek\"),\"->> listede bulunan çilek sayısı\")\n",
    "\n",
    "# copy() ->>>>>> elimizdeki mevcut listenin kopyalanmasını sağlar\n",
    "yedek_liste=data.copy()\n",
    "print(yedek_liste,\"->> yedek liste\")\n",
    "\n",
    "# sort() ->>>>>> aynı tipten öğeleri içeren listenin alfabetik veya küçüktüen büyüğe sıralanmasını sağlar\n",
    "months.sort()\n",
    "print(months)\n",
    "numbers.sort()\n",
    "print(numbers)\n",
    "# ** default olarak küçükten büyüğe doğtu sıralar,  büyükten küçüğe istersek sort(reverse=True) kullanılır\n",
    "numbers.sort(reverse=True)\n",
    "print(numbers)\n",
    "months.sort(reverse=True)\n",
    "print(months)\n",
    "\n",
    "# clear() liste tamamen silinir, boş liste olur\n",
    "numbers.clear()\n",
    "print(numbers,\"->> liste öğeleri silindi\")"
   ]
  },
  {
   "cell_type": "markdown",
   "metadata": {},
   "source": [
    "## Tuple"
   ]
  },
  {
   "cell_type": "code",
   "execution_count": null,
   "metadata": {},
   "outputs": [],
   "source": [
    "\"\"\"\n",
    "Değiştirilemez,  ( listeden farkı)\n",
    "Sıralıdır,\n",
    "Kapsayıcıdır\n",
    "\"\"\""
   ]
  },
  {
   "cell_type": "code",
   "execution_count": 19,
   "metadata": {},
   "outputs": [
    {
     "data": {
      "text/plain": [
       "tuple"
      ]
     },
     "execution_count": 19,
     "metadata": {},
     "output_type": "execute_result"
    }
   ],
   "source": [
    "# tuple tanımlak  ->>>>>>> tupleAdı=(veriler)\n",
    "t=(\"a\",\"b\",1,2,[2,3,4],1)\n",
    "g=\"c\",\"d\"\n",
    "# ** tek elemanlı tuple oluştururken sonuna virgül konulmalıdır aksi durumda python bunun tuple türünden olduğunu anlamaz\n",
    "c=(\"a\",)\n",
    "type(c)"
   ]
  },
  {
   "cell_type": "code",
   "execution_count": 21,
   "metadata": {},
   "outputs": [
    {
     "data": {
      "text/plain": [
       "2"
      ]
     },
     "execution_count": 21,
     "metadata": {},
     "output_type": "execute_result"
    }
   ],
   "source": [
    "### Metotlar ###   tupleAdı.metot()\n",
    "## Boyutu değiştirilemediği için sadece index ve count metotları kullanılabilir.\n",
    "t.index(2) # 2 nin kaçıncı index de olduğunu gösterir\n",
    "t.count(1) # 1 elemanından tuple içerisinde kaç tane olğunu gösterir\n"
   ]
  },
  {
   "cell_type": "code",
   "execution_count": 22,
   "metadata": {},
   "outputs": [
    {
     "data": {
      "text/plain": [
       "tuple"
      ]
     },
     "execution_count": 22,
     "metadata": {},
     "output_type": "execute_result"
    }
   ],
   "source": [
    "aile=\"anne\",\"baba\",\"kardeş\"\n"
   ]
  },
  {
   "cell_type": "code",
   "execution_count": 23,
   "metadata": {},
   "outputs": [],
   "source": [
    "a,b,c=aile"
   ]
  },
  {
   "cell_type": "code",
   "execution_count": 24,
   "metadata": {},
   "outputs": [
    {
     "data": {
      "text/plain": [
       "'anne'"
      ]
     },
     "execution_count": 24,
     "metadata": {},
     "output_type": "execute_result"
    }
   ],
   "source": [
    "a"
   ]
  },
  {
   "cell_type": "code",
   "execution_count": null,
   "metadata": {},
   "outputs": [],
   "source": []
  }
 ],
 "metadata": {
  "kernelspec": {
   "display_name": "Python 3",
   "language": "python",
   "name": "python3"
  },
  "language_info": {
   "codemirror_mode": {
    "name": "ipython",
    "version": 3
   },
   "file_extension": ".py",
   "mimetype": "text/x-python",
   "name": "python",
   "nbconvert_exporter": "python",
   "pygments_lexer": "ipython3",
   "version": "3.7.6"
  }
 },
 "nbformat": 4,
 "nbformat_minor": 4
}
